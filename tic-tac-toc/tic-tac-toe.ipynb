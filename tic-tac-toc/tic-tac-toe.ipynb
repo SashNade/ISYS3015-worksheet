{
 "cells": [
  {
   "cell_type": "code",
   "execution_count": null,
   "id": "a92fe62d-6ed1-4412-b624-657dbb347ff9",
   "metadata": {},
   "outputs": [],
   "source": [
    "# Tic-Tac-Toe\n",
    "\n",
    "Al Sweigart, Beyond the Basic stuff with Python, Chapter 15, No Starch Press"
   ]
  },
  {
   "cell_type": "code",
   "execution_count": 2,
   "id": "75e50342-ae8c-45cb-8143-f4d6f1da3bdf",
   "metadata": {},
   "outputs": [],
   "source": [
    "# tictactoe.py, A non-OOP tic-tac-toe game.\n",
    "\n",
    "ALL_SPACES = list('123456789')  # The keys for a TTT board dictionary.\n",
    "X, O, BLANK = 'X', 'O', ' '  # Constants for string values.\n",
    "\n",
    "\n",
    "def main():\n",
    "    \"\"\"Runs a game of tic-tac-toe.\"\"\"\n",
    "    print('Welcome to tic-tac-toe!')\n",
    "    gameBoard = getBlankBoard()  # Create a TTT board dictionary.\n",
    "    currentPlayer, nextPlayer = X, O  # X goes first, O goes next.\n",
    "\n",
    "    while True:\n",
    "        print(getBoardStr(gameBoard))  # Display the board on the screen.\n",
    "\n",
    "        # Keep asking the player until they enter a number 1-9:\n",
    "        move = None\n",
    "        while not isValidSpace(gameBoard, move):\n",
    "            print(f'What is {currentPlayer}\\'s move? (1-9)')\n",
    "            move = input()\n",
    "        updateBoard(gameBoard, move, currentPlayer)  # Make the move.\n",
    "\n",
    "        # Check if the game is over:\n",
    "        if isWinner(gameBoard, currentPlayer):  # First check for victory.\n",
    "            print(getBoardStr(gameBoard))\n",
    "            print(currentPlayer + ' has won the game!')\n",
    "            break\n",
    "        elif isBoardFull(gameBoard):  # Next check for a tie.\n",
    "            print(getBoardStr(gameBoard))\n",
    "            print('The game is a tie!')\n",
    "            break\n",
    "        currentPlayer, nextPlayer = nextPlayer, currentPlayer  # Swap turns.\n",
    "    print('Thanks for playing!')\n",
    "\n",
    "\n",
    "def getBlankBoard():\n",
    "    \"\"\"Create a new, blank tic-tac-toe board.\"\"\"\n",
    "    board = {} # The board is represented as a Python dictionary.\n",
    "    for space in ALL_SPACES:\n",
    "        board[space] = BLANK  # All spaces start as blank.\n",
    "    return board\n",
    "\n",
    "\n",
    "def getBoardStr(board):\n",
    "    \"\"\"Return a text-representation of the board.\"\"\"\n",
    "    return f'''\n",
    "      {board['1']}|{board['2']}|{board['3']}  1 2 3\n",
    "      -+-+-\n",
    "      {board['4']}|{board['5']}|{board['6']}  4 5 6\n",
    "      -+-+-\n",
    "      {board['7']}|{board['8']}|{board['9']}  7 8 9'''\n",
    "\n",
    "\n",
    "def isValidSpace(board, space):\n",
    "    \"\"\"Returns True if the space on the board is a valid space number\n",
    "    and the space is blank.\"\"\"\n",
    "    return space in ALL_SPACES and board[space] == BLANK\n",
    "\n",
    "\n",
    "def isWinner(board, player):\n",
    "    \"\"\"Return True if player is a winner on this TTTBoard.\"\"\"\n",
    "    b, p = board, player  # Shorter names as \"syntactic sugar\".\n",
    "    # Check for 3 marks across the 3 rows, 3 columns, and 2 diagonals.\n",
    "    return ((b['1'] == b['2'] == b['3'] == p) or  # Across the top\n",
    "            (b['4'] == b['5'] == b['6'] == p) or  # Across the middle\n",
    "            (b['7'] == b['8'] == b['9'] == p) or  # Across the bottom\n",
    "            (b['1'] == b['4'] == b['7'] == p) or  # Down the left\n",
    "            (b['2'] == b['5'] == b['8'] == p) or  # Down the middle\n",
    "            (b['3'] == b['6'] == b['9'] == p) or  # Down the right\n",
    "            (b['3'] == b['5'] == b['7'] == p) or  # Diagonal\n",
    "            (b['1'] == b['5'] == b['9'] == p))    # Diagonal\n",
    "\n",
    "\n",
    "def isBoardFull(board):\n",
    "    \"\"\"Return True if every space on the board has been taken.\"\"\"\n",
    "    for space in ALL_SPACES:\n",
    "        if board[space] == BLANK:\n",
    "            return False  # If a single space is blank, return False.\n",
    "    return True  # No spaces are blank, so return True.\n",
    "\n",
    "\n",
    "def updateBoard(board, space, mark):\n",
    "    \"\"\"Sets the space on the board to mark.\"\"\"\n",
    "    board[space] = mark"
   ]
  },
  {
   "cell_type": "code",
   "execution_count": 3,
   "id": "bfbf77fe-fc98-4c35-bbeb-4115d1231e53",
   "metadata": {},
   "outputs": [
    {
     "name": "stdout",
     "output_type": "stream",
     "text": [
      "Welcome to tic-tac-toe!\n",
      "\n",
      "       | |   1 2 3\n",
      "      -+-+-\n",
      "       | |   4 5 6\n",
      "      -+-+-\n",
      "       | |   7 8 9\n",
      "What is X's move? (1-9)\n"
     ]
    },
    {
     "name": "stdin",
     "output_type": "stream",
     "text": [
      " 1\n"
     ]
    },
    {
     "name": "stdout",
     "output_type": "stream",
     "text": [
      "\n",
      "      X| |   1 2 3\n",
      "      -+-+-\n",
      "       | |   4 5 6\n",
      "      -+-+-\n",
      "       | |   7 8 9\n",
      "What is O's move? (1-9)\n"
     ]
    },
    {
     "name": "stdin",
     "output_type": "stream",
     "text": [
      " 2\n"
     ]
    },
    {
     "name": "stdout",
     "output_type": "stream",
     "text": [
      "\n",
      "      X|O|   1 2 3\n",
      "      -+-+-\n",
      "       | |   4 5 6\n",
      "      -+-+-\n",
      "       | |   7 8 9\n",
      "What is X's move? (1-9)\n"
     ]
    },
    {
     "name": "stdin",
     "output_type": "stream",
     "text": [
      " 4\n"
     ]
    },
    {
     "name": "stdout",
     "output_type": "stream",
     "text": [
      "\n",
      "      X|O|   1 2 3\n",
      "      -+-+-\n",
      "      X| |   4 5 6\n",
      "      -+-+-\n",
      "       | |   7 8 9\n",
      "What is O's move? (1-9)\n"
     ]
    },
    {
     "name": "stdin",
     "output_type": "stream",
     "text": [
      " 5\n"
     ]
    },
    {
     "name": "stdout",
     "output_type": "stream",
     "text": [
      "\n",
      "      X|O|   1 2 3\n",
      "      -+-+-\n",
      "      X|O|   4 5 6\n",
      "      -+-+-\n",
      "       | |   7 8 9\n",
      "What is X's move? (1-9)\n"
     ]
    },
    {
     "name": "stdin",
     "output_type": "stream",
     "text": [
      " 7\n"
     ]
    },
    {
     "name": "stdout",
     "output_type": "stream",
     "text": [
      "\n",
      "      X|O|   1 2 3\n",
      "      -+-+-\n",
      "      X|O|   4 5 6\n",
      "      -+-+-\n",
      "      X| |   7 8 9\n",
      "X has won the game!\n",
      "Thanks for playing!\n"
     ]
    }
   ],
   "source": [
    "main()"
   ]
  },
  {
   "cell_type": "code",
   "execution_count": null,
   "id": "ded186a4-8fdc-472a-a931-5e241ed4e105",
   "metadata": {},
   "outputs": [],
   "source": []
  }
 ],
 "metadata": {
  "kernelspec": {
   "display_name": "Python 3 (ipykernel)",
   "language": "python",
   "name": "python3"
  },
  "language_info": {
   "codemirror_mode": {
    "name": "ipython",
    "version": 3
   },
   "file_extension": ".py",
   "mimetype": "text/x-python",
   "name": "python",
   "nbconvert_exporter": "python",
   "pygments_lexer": "ipython3",
   "version": "3.9.13"
  }
 },
 "nbformat": 4,
 "nbformat_minor": 5
}
