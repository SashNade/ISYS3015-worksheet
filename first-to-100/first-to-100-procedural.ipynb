{
 "cells": [
  {
   "cell_type": "markdown",
   "id": "9652d0e0-2a04-4aa0-a248-4e9cb443108c",
   "metadata": {},
   "source": [
    "# The Game (Procedural Version)\n",
    "\n",
    "* Simulate simple board game\n",
    "* There are two players\n",
    "* Each player take turns rolling a die and moving that number of spaces\n",
    "* The first person to space 100 wins"
   ]
  },
  {
   "cell_type": "code",
   "execution_count": null,
   "id": "61d49652-2cd3-411c-b42b-d5272ed50099",
   "metadata": {},
   "outputs": [],
   "source": [
    "import random\n",
    "\n",
    "def player_move(i, previous_score):\n",
    "    player_roll = random.randint(1, 6)\n",
    "    player_score = previous_score + player_roll\n",
    "    print(f\"Player {i+1} score: {player_score} (rolled a {player_roll})\")\n",
    "    return player_score\n",
    "\n",
    "player_scores = [0, 0]\n",
    "finished = False\n",
    "\n",
    "while not finished:\n",
    "    for player_number, player_score in enumerate(player_scores):\n",
    "        player_scores[player_number] = player_move(player_number, player_score)\n",
    "        if player_scores[player_number] >= 100:\n",
    "            print(f\"Player {player_number+1} wins!\")\n",
    "            finished = True\n",
    "            break"
   ]
  }
 ],
 "metadata": {
  "kernelspec": {
   "display_name": "Python 3 (ipykernel)",
   "language": "python",
   "name": "python3"
  },
  "language_info": {
   "codemirror_mode": {
    "name": "ipython",
    "version": 3
   },
   "file_extension": ".py",
   "mimetype": "text/x-python",
   "name": "python",
   "nbconvert_exporter": "python",
   "pygments_lexer": "ipython3",
   "version": "3.9.13"
  }
 },
 "nbformat": 4,
 "nbformat_minor": 5
}
