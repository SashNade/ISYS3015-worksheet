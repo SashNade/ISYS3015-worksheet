{
 "cells": [
  {
   "cell_type": "markdown",
   "id": "a01cc3be-6188-4711-9eba-4a28936c2109",
   "metadata": {},
   "source": [
    "# The Game (Imperative Version)\n",
    "\n",
    "* Simulate simple board game\n",
    "* There are two players\n",
    "* Each player take turns rolling a die and moving that number of spaces\n",
    "* The first person to space 100 wins\n",
    "\n",
    "Simple *Imperative* Version"
   ]
  },
  {
   "cell_type": "code",
   "execution_count": 1,
   "id": "54120d8a-0170-4f00-b949-028408b65272",
   "metadata": {},
   "outputs": [
    {
     "name": "stdout",
     "output_type": "stream",
     "text": [
      "Player 1 score: 1 (rolled a 1)\n",
      "Player 2 score: 1 (rolled a 1)\n",
      "Player 1 score: 4 (rolled a 3)\n",
      "Player 2 score: 7 (rolled a 6)\n",
      "Player 1 score: 9 (rolled a 5)\n",
      "Player 2 score: 9 (rolled a 2)\n",
      "Player 1 score: 11 (rolled a 2)\n",
      "Player 2 score: 12 (rolled a 3)\n",
      "Player 1 score: 16 (rolled a 5)\n",
      "Player 2 score: 18 (rolled a 6)\n",
      "Player 1 score: 21 (rolled a 5)\n",
      "Player 2 score: 24 (rolled a 6)\n",
      "Player 1 score: 24 (rolled a 3)\n",
      "Player 2 score: 29 (rolled a 5)\n",
      "Player 1 score: 29 (rolled a 5)\n",
      "Player 2 score: 32 (rolled a 3)\n",
      "Player 1 score: 33 (rolled a 4)\n",
      "Player 2 score: 36 (rolled a 4)\n",
      "Player 1 score: 38 (rolled a 5)\n",
      "Player 2 score: 42 (rolled a 6)\n",
      "Player 1 score: 41 (rolled a 3)\n",
      "Player 2 score: 43 (rolled a 1)\n",
      "Player 1 score: 46 (rolled a 5)\n",
      "Player 2 score: 44 (rolled a 1)\n",
      "Player 1 score: 52 (rolled a 6)\n",
      "Player 2 score: 49 (rolled a 5)\n",
      "Player 1 score: 53 (rolled a 1)\n",
      "Player 2 score: 52 (rolled a 3)\n",
      "Player 1 score: 54 (rolled a 1)\n",
      "Player 2 score: 54 (rolled a 2)\n",
      "Player 1 score: 55 (rolled a 1)\n",
      "Player 2 score: 58 (rolled a 4)\n",
      "Player 1 score: 56 (rolled a 1)\n",
      "Player 2 score: 59 (rolled a 1)\n",
      "Player 1 score: 60 (rolled a 4)\n",
      "Player 2 score: 63 (rolled a 4)\n",
      "Player 1 score: 62 (rolled a 2)\n",
      "Player 2 score: 69 (rolled a 6)\n",
      "Player 1 score: 67 (rolled a 5)\n",
      "Player 2 score: 75 (rolled a 6)\n",
      "Player 1 score: 71 (rolled a 4)\n",
      "Player 2 score: 78 (rolled a 3)\n",
      "Player 1 score: 76 (rolled a 5)\n",
      "Player 2 score: 80 (rolled a 2)\n",
      "Player 1 score: 78 (rolled a 2)\n",
      "Player 2 score: 82 (rolled a 2)\n",
      "Player 1 score: 83 (rolled a 5)\n",
      "Player 2 score: 83 (rolled a 1)\n",
      "Player 1 score: 86 (rolled a 3)\n",
      "Player 2 score: 87 (rolled a 4)\n",
      "Player 1 score: 91 (rolled a 5)\n",
      "Player 2 score: 88 (rolled a 1)\n",
      "Player 1 score: 92 (rolled a 1)\n",
      "Player 2 score: 93 (rolled a 5)\n",
      "Player 1 score: 98 (rolled a 6)\n",
      "Player 2 score: 96 (rolled a 3)\n",
      "Player 1 score: 100 (rolled a 2)\n",
      "Player 1 wins!\n"
     ]
    }
   ],
   "source": [
    "import random\n",
    "player_1_score = 0\n",
    "player_2_score = 0\n",
    "\n",
    "while True:\n",
    "    player_1_roll = random.randint(1, 6)\n",
    "    player_1_score += player_1_roll\n",
    "    print(f\"Player 1 score: {player_1_score} (rolled a {player_1_roll})\")\n",
    "    if player_1_score >= 100:\n",
    "        print(\"Player 1 wins!\")\n",
    "        break\n",
    "\n",
    "    player_2_roll = random.randint(1, 6)\n",
    "    player_2_score += player_2_roll\n",
    "    print(f\"Player 2 score: {player_2_score} (rolled a {player_2_roll})\")\n",
    "    if player_2_score >= 100:\n",
    "        print(\"Player 2 wins!\")\n",
    "        break"
   ]
  },
  {
   "cell_type": "code",
   "execution_count": null,
   "id": "961cd7bb-4237-45aa-b938-896ea9da8850",
   "metadata": {},
   "outputs": [],
   "source": []
  }
 ],
 "metadata": {
  "kernelspec": {
   "display_name": "Python 3 (ipykernel)",
   "language": "python",
   "name": "python3"
  },
  "language_info": {
   "codemirror_mode": {
    "name": "ipython",
    "version": 3
   },
   "file_extension": ".py",
   "mimetype": "text/x-python",
   "name": "python",
   "nbconvert_exporter": "python",
   "pygments_lexer": "ipython3",
   "version": "3.9.13"
  }
 },
 "nbformat": 4,
 "nbformat_minor": 5
}
