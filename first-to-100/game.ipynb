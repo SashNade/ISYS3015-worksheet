{
 "cells": [
  {
   "cell_type": "markdown",
   "id": "a5daeabc-4130-4b06-a28b-41002b9544a6",
   "metadata": {},
   "source": [
    "Starter notebook for the `Game` class.  We need to:\n",
    "* initialise the game object\n",
    "    * number of players\n",
    "    * the dice\n",
    "    * number of spaces\n",
    "* setup for the game.  In our case will be a simple message\n",
    "* run the game. The main game logic\n",
    "* close the game.  Again just a simple message will be okay\n",
    "\n",
    "Adapted for ISYS3015 and converted to notebooks from: [Object-Oriented Programming in Python Live Training](https://github.com/ariannedee/oop-python)"
   ]
  },
  {
   "cell_type": "code",
   "execution_count": null,
   "id": "2a1170f9-6fce-46ad-8326-e9babcecb32c",
   "metadata": {},
   "outputs": [],
   "source": [
    "# Allow to import Notebooks ad Python modules\n",
    "import import_ipynb"
   ]
  },
  {
   "cell_type": "code",
   "execution_count": 3,
   "id": "7c943a25-03b3-41d2-a06d-bf259deba505",
   "metadata": {},
   "outputs": [
    {
     "ename": "ModuleNotFoundError",
     "evalue": "No module named 'player'",
     "output_type": "error",
     "traceback": [
      "\u001b[0;31m---------------------------------------------------------------------------\u001b[0m",
      "\u001b[0;31mModuleNotFoundError\u001b[0m                       Traceback (most recent call last)",
      "Input \u001b[0;32mIn [3]\u001b[0m, in \u001b[0;36m<cell line: 1>\u001b[0;34m()\u001b[0m\n\u001b[0;32m----> 1\u001b[0m \u001b[38;5;28;01mfrom\u001b[39;00m \u001b[38;5;21;01mplayer\u001b[39;00m \u001b[38;5;28;01mimport\u001b[39;00m get_player\n\u001b[1;32m      4\u001b[0m \u001b[38;5;28;01mclass\u001b[39;00m \u001b[38;5;21;01mGame\u001b[39;00m:\n\u001b[1;32m      5\u001b[0m     \u001b[38;5;124;03m'''Create a game for a given numbers of players, a die and target score'''\u001b[39;00m\n",
      "\u001b[0;31mModuleNotFoundError\u001b[0m: No module named 'player'"
     ]
    }
   ],
   "source": [
    "from player import get_player\n",
    "\n",
    "\n",
    "class Game:\n",
    "    '''Create a game for a given numbers of players, a die and target score'''\n",
    "\n",
    "    # a property that increases everytime a gameclass is initiated\n",
    "    # so we can differenciate game\n",
    "    counter = 0\n",
    "\n",
    "    def __init__(self, dice, num_players=2, target_score=100):\n",
    "        '''Intialise the game variables'''\n",
    "        pass\n",
    "\n",
    "    def _setup(self):\n",
    "        '''An internal method to setup the game'''\n",
    "        pass\n",
    "\n",
    "    def _run(self):\n",
    "        '''An internal method to perform the turns of the game'''\n",
    "        while True:\n",
    "            for player in self.players_list_obj:\n",
    "                player.take_turn(self.dice)\n",
    "                if player.has_won(self.target_score):\n",
    "                    print(f\"Player {player} won!\")\n",
    "                    return\n",
    "\n",
    "\n",
    "    def _packup(self):\n",
    "        '''Internal method to packup the game.'''\n",
    "        pass\n",
    "\n",
    "    def play_game(self):\n",
    "        '''Method to play the game.'''\n",
    "        self._setup()\n",
    "        self._run()\n",
    "        self._packup()\n",
    "\n",
    "    def __str__(self):\n",
    "        return f'Game {self.num} with dice {self.dice}'"
   ]
  },
  {
   "cell_type": "code",
   "execution_count": null,
   "id": "ce0a16e1-2f0d-47fb-b8f1-cf582645374e",
   "metadata": {},
   "outputs": [],
   "source": []
  }
 ],
 "metadata": {
  "kernelspec": {
   "display_name": "Python 3 (ipykernel)",
   "language": "python",
   "name": "python3"
  },
  "language_info": {
   "codemirror_mode": {
    "name": "ipython",
    "version": 3
   },
   "file_extension": ".py",
   "mimetype": "text/x-python",
   "name": "python",
   "nbconvert_exporter": "python",
   "pygments_lexer": "ipython3",
   "version": "3.9.13"
  }
 },
 "nbformat": 4,
 "nbformat_minor": 5
}
