{
 "cells": [
  {
   "cell_type": "markdown",
   "id": "396bac60-9dda-4502-ac82-c2142f37338b",
   "metadata": {},
   "source": [
    "This is a starter notebook for the `Dice` class.  Using inheritance implement:\n",
    "* Standard 6-sided die\n",
    "* Russian roulette dice\n",
    "* Rigged die\n",
    "* D20"
   ]
  },
  {
   "cell_type": "code",
   "execution_count": 2,
   "id": "b5ed080b-3b9a-4cf9-ac0e-ea97e66346f6",
   "metadata": {},
   "outputs": [],
   "source": [
    "import random\n",
    "\n",
    "\n",
    "class Dice:\n",
    "    '''Abstract class.  All die can role() and represented as a string'''\n",
    "\n",
    "    def roll(self):\n",
    "        raise NotImplementedError\n",
    "\n",
    "    def __str__(self):\n",
    "        raise NotImplementedError\n",
    "\n",
    "\n",
    "class D6(Dice):\n",
    "    '''Standard six sided dice'''\n",
    "\n",
    "    def role(self):\n",
    "        return random.randint(1,6)\n",
    "\n",
    "    def __str__(self):\n",
    "        return \"D6\"\n",
    "\n",
    "\n",
    "class RussianRoulette(Dice):\n",
    "    '''Standard 6-sided die but with a 1/1000 chance of rolling -1000'''\n",
    "    def roll():\n",
    "        if random.random() <= 0.001:\n",
    "            return -1000\n",
    "        else:\n",
    "            return random.randint(1,6)\n",
    "\n",
    "        def __str__(self):\n",
    "            return \"RussianRoulette\"\n",
    "\n",
    "\n",
    "class Rigged(Dice):\n",
    "    '''Standard 6-sided die, but every eighth is luck (three or greater)'''\n",
    "    pass\n",
    "\n",
    "\n",
    "class D20(Dice):\n",
    "    '''Standard 20-sided die.'''\n",
    "\n",
    "    def roll(self):\n",
    "        return random.randint(1,20)\n",
    "\n",
    "    def __str__(self):\n",
    "        return \"D20\"\n",
    "\n",
    "\n",
    "\n",
    "\n"
   ]
  },
  {
   "cell_type": "code",
   "execution_count": null,
   "id": "da4c88dd-2c69-432a-9751-8e4949ff9e29",
   "metadata": {},
   "outputs": [],
   "source": []
  }
 ],
 "metadata": {
  "kernelspec": {
   "display_name": "Python 3 (ipykernel)",
   "language": "python",
   "name": "python3"
  },
  "language_info": {
   "codemirror_mode": {
    "name": "ipython",
    "version": 3
   },
   "file_extension": ".py",
   "mimetype": "text/x-python",
   "name": "python",
   "nbconvert_exporter": "python",
   "pygments_lexer": "ipython3",
   "version": "3.9.13"
  }
 },
 "nbformat": 4,
 "nbformat_minor": 5
}
