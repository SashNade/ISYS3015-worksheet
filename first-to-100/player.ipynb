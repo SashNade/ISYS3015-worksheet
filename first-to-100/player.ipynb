{
 "cells": [
  {
   "cell_type": "markdown",
   "id": "47d801b2-25e9-45e7-89dc-f1f73ee41e6c",
   "metadata": {},
   "source": [
    "Starter notebook for `Player` class.  \n",
    "\n",
    "We need to create a lucky player. The lucky player gets a bonus of three spaces with each dice roll.\n",
    "\n",
    "We need to be able to generate either a player or a luckly player. We have arbitariy chosen that if the player number is divisible by three, then they are lucky.\n",
    "\n",
    "Adapted for notebooks from: [Object-Oriented Programming in Python Live Training](https://github.com/ariannedee/oop-python)"
   ]
  },
  {
   "cell_type": "code",
   "execution_count": 2,
   "id": "d81939f7-47ba-4a32-a07a-48c1064be779",
   "metadata": {},
   "outputs": [],
   "source": [
    "from random import randint\n",
    "\n",
    "\n",
    "class Player:\n",
    "    '''A player of the game.  They can take a turn and check to see if they have won'''\n",
    "    def __init__(self, num):\n",
    "        self._score = 0\n",
    "        self.num = num\n",
    "\n",
    "    def take_turn(self, dice):\n",
    "        ''' Roll the dice and update position (score) on the board'''\n",
    "        pass\n",
    "    \n",
    "    def has_won(self, target_score):\n",
    "        '''Check to see if player has reached target score'''\n",
    "        return True\n",
    "    \n",
    "    def __str__(self):\n",
    "        ''' Represent Player as a string'''\n",
    "        return f'Player {self.num}'\n",
    "\n",
    "    \n",
    "class LuckyPlayer(Player):\n",
    "    '''Lucky player gets a +3 bonuse for each roll'''\n",
    "    def take_turn(self, dice):\n",
    "        pass\n",
    "    \n",
    "    def __str__(self):\n",
    "        ''' String representation og a lucky player'''\n",
    "        string = super().__str__()\n",
    "        return f'{string} (lucky)'\n",
    "\n",
    "\n",
    "    \n",
    "def get_player(num):\n",
    "    '''Generate a Player object.  Lucky Players are players whose number is divisible by three'''\n",
    "    if num % 3 == 0:\n",
    "        return LuckyPlayer(num)\n",
    "    return Player(num)"
   ]
  },
  {
   "cell_type": "code",
   "execution_count": null,
   "id": "c4dc6dd5-d87f-46b2-9444-a6913d363a8a",
   "metadata": {},
   "outputs": [],
   "source": []
  }
 ],
 "metadata": {
  "kernelspec": {
   "display_name": "Python 3 (ipykernel)",
   "language": "python",
   "name": "python3"
  },
  "language_info": {
   "codemirror_mode": {
    "name": "ipython",
    "version": 3
   },
   "file_extension": ".py",
   "mimetype": "text/x-python",
   "name": "python",
   "nbconvert_exporter": "python",
   "pygments_lexer": "ipython3",
   "version": "3.9.13"
  }
 },
 "nbformat": 4,
 "nbformat_minor": 5
}
